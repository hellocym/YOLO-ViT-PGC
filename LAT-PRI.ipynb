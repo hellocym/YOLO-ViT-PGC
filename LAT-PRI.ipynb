{
 "cells": [
  {
   "cell_type": "code",
   "execution_count": 3,
   "metadata": {},
   "outputs": [
    {
     "name": "stdout",
     "output_type": "stream",
     "text": [
      "/root/YOLO-ViT-PGC/LA-Transformer/LATransformer\n"
     ]
    }
   ],
   "source": [
    "%cd /root/YOLO-ViT-PGC/LA-Transformer/LATransformer\n",
    "from __future__ import print_function\n",
    "\n",
    "import os\n",
    "import time\n",
    "import glob\n",
    "import random\n",
    "import zipfile\n",
    "from itertools import chain\n",
    "\n",
    "\n",
    "os.environ['HF_ENDPOINT'] = \"https://hf-mirror.com\"\n",
    "import timm\n",
    "import numpy as np\n",
    "import pandas as pd\n",
    "from PIL import Image\n",
    "from tqdm.notebook import tqdm\n",
    "import matplotlib.pyplot as plt\n",
    "from collections import OrderedDict\n",
    "from sklearn.model_selection import train_test_split\n",
    "\n",
    "import torch\n",
    "import torch.nn as nn\n",
    "from torch.nn import init\n",
    "import torch.optim as optim\n",
    "from torchvision import models\n",
    "import torch.nn.functional as F\n",
    "from torch.autograd import Variable\n",
    "from torch.optim.lr_scheduler import StepLR\n",
    "from torchvision import datasets, transforms\n",
    "from torch.utils.data import DataLoader, Dataset\n",
    "\n",
    "from LATransformer.model import ClassBlock, LATransformer, LATransformerTest\n",
    "from LATransformer.utils import save_network, update_summary, get_id\n",
    "from LATransformer.metrics import rank1, rank5, rank10, calc_map\n",
    "\n",
    "\n",
    "\n",
    "device = \"cuda\""
   ]
  },
  {
   "cell_type": "code",
   "execution_count": 4,
   "metadata": {},
   "outputs": [],
   "source": [
    "batch_size = 8\n",
    "gamma = 0.7\n",
    "seed = 42"
   ]
  },
  {
   "cell_type": "code",
   "execution_count": null,
   "metadata": {},
   "outputs": [],
   "source": [
    "# Load ViT\n",
    "vit_base = timm.create_model('vit_base_patch16_224', pretrained=True, num_classes=751)\n",
    "vit_base= vit_base.to(device)\n",
    "\n",
    "# Create La-Transformer\n",
    "model = LATransformerTest(vit_base, lmbd=8).to(device)\n",
    "\n",
    "# Load LA-Transformer\n",
    "name = \"la_with_lmbd_8\"\n",
    "save_path = '/kaggle/input/lat-pri/pytorch/default/1/net_best.pth'\n",
    "model.load_state_dict(torch.load(save_path), strict=False)\n",
    "model.eval()"
   ]
  },
  {
   "cell_type": "code",
   "execution_count": null,
   "metadata": {},
   "outputs": [],
   "source": []
  }
 ],
 "metadata": {
  "kernelspec": {
   "display_name": "Python 3 (ipykernel)",
   "language": "python",
   "name": "python3"
  },
  "language_info": {
   "codemirror_mode": {
    "name": "ipython",
    "version": 3
   },
   "file_extension": ".py",
   "mimetype": "text/x-python",
   "name": "python",
   "nbconvert_exporter": "python",
   "pygments_lexer": "ipython3",
   "version": "3.8.10"
  }
 },
 "nbformat": 4,
 "nbformat_minor": 4
}
