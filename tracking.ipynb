{
 "cells": [
  {
   "cell_type": "code",
   "execution_count": 2,
   "metadata": {},
   "outputs": [
    {
     "name": "stdout",
     "output_type": "stream",
     "text": [
      "/hy-tmp/七贤岭/417290/qx290_231208_100613_100714.mp4\n"
     ]
    }
   ],
   "source": [
    "# Object Detecion \n",
    "import cv2\n",
    "from ultralytics import YOLO\n",
    "#plots\n",
    "import matplotlib.pyplot as plt\n",
    "import seaborn as sns\n",
    "\n",
    "#basics\n",
    "import pandas as pd\n",
    "import numpy as np\n",
    "import os\n",
    "import subprocess\n",
    "\n",
    "from tqdm import tqdm\n",
    "\n",
    "cam1_path = '/hy-tmp/七贤岭/417290'\n",
    "cam2_path = '/hy-tmp/七贤岭/417334'\n",
    "cam1_size = len(os.listdir(cam1_path))\n",
    "vid_name = os.listdir(cam1_path)[cam1_size // 2]\n",
    "path = os.path.join(cam1_path, vid_name)\n",
    "\n",
    "print(path)"
   ]
  },
  {
   "cell_type": "code",
   "execution_count": 3,
   "metadata": {},
   "outputs": [
    {
     "name": "stdout",
     "output_type": "stream",
     "text": [
      "231208\n",
      "606 607\n"
     ]
    }
   ],
   "source": [
    "vid1_date = vid_name.split('_')[1]\n",
    "vid1_time_start = vid_name.split('_')[2][:-2]\n",
    "vid1_time_start_hour = int(vid1_time_start[:2])\n",
    "vid1_time_start_minute = vid1_time_start_hour*60 + int(vid1_time_start[2:])\n",
    "\n",
    "vid1_time_end = vid_name.split('_')[3][:-4][:-2]\n",
    "vid1_time_end_hour = int(vid1_time_end[:2])\n",
    "vid1_time_end_minute = vid1_time_end_hour*60 + int(vid1_time_end[2:])\n",
    "\n",
    "print(vid1_date)\n",
    "print(vid1_time_start_minute, vid1_time_end_minute)"
   ]
  },
  {
   "cell_type": "code",
   "execution_count": 6,
   "metadata": {},
   "outputs": [
    {
     "name": "stdout",
     "output_type": "stream",
     "text": [
      "601 612\n",
      "qx334_231208_100147_100248.mp4\n",
      "qx334_231208_100248_100348.mp4\n",
      "qx334_231208_100348_100449.mp4\n",
      "qx334_231208_100449_100549.mp4\n",
      "qx334_231208_100549_100650.mp4\n",
      "qx334_231208_100650_100751.mp4\n",
      "qx334_231208_100751_100851.mp4\n",
      "qx334_231208_100851_100952.mp4\n",
      "qx334_231208_100952_101053.mp4\n",
      "qx334_231208_101053_101153.mp4\n",
      "qx334_231208_101153_101254.mp4\n",
      "qx334_231208_101254_101355.mp4\n"
     ]
    }
   ],
   "source": [
    "timelapse = 5 # +-5min\n",
    "vid2_date = vid1_date\n",
    "vid2_time_start = vid1_time_start_minute - timelapse\n",
    "vid2_time_end = vid1_time_end_minute + timelapse\n",
    "print(vid2_time_start, vid2_time_end)\n",
    "\n",
    "for vid2 in os.listdir(cam2_path):\n",
    "    vid2_time = vid2.split('_')[2][:-2]\n",
    "    vid2_time_hour = int(vid2_time[:2])\n",
    "    vid2_time_minute = vid2_time_hour*60 + int(vid2_time[2:])\n",
    "    \n",
    "    if vid2_time_minute >= vid2_time_start and vid2_time_minute <= vid2_time_end:\n",
    "        print(vid2)"
   ]
  },
  {
   "cell_type": "code",
   "execution_count": null,
   "metadata": {},
   "outputs": [],
   "source": []
  }
 ],
 "metadata": {
  "kernelspec": {
   "display_name": "base",
   "language": "python",
   "name": "python3"
  },
  "language_info": {
   "codemirror_mode": {
    "name": "ipython",
    "version": 3
   },
   "file_extension": ".py",
   "mimetype": "text/x-python",
   "name": "python",
   "nbconvert_exporter": "python",
   "pygments_lexer": "ipython3",
   "version": "3.8.10"
  }
 },
 "nbformat": 4,
 "nbformat_minor": 2
}
